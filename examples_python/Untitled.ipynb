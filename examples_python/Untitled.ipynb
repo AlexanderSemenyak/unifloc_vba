{
 "cells": [
  {
   "cell_type": "code",
   "execution_count": 1,
   "id": "8f7c2af9",
   "metadata": {},
   "outputs": [
    {
     "name": "stdout",
     "output_type": "stream",
     "text": [
      "Текущая папка где находится скрипт python -- D:\\unifloc\\unifloc_vba\\examples_python\n",
      "Путь к папке Unifloc VBA -- D:\\unifloc\\unifloc_vba\n",
      "Путь к надстройке Unifloc VBA -- D:\\unifloc\\unifloc_vba\\UniflocVBA_7.xlam\n"
     ]
    }
   ],
   "source": [
    "\"\"\"\n",
    "Пример автоматического определения путей для примера поставляемого с Unifloc VBA\n",
    "работает, только если расчетный файл находится во вложенной папке относительно надстройки.\n",
    "Для других вариантов расположения расчетного файла - ссылки на папки надо модифицировать\n",
    "\"\"\" \n",
    "\n",
    "import os\n",
    "import sys\n",
    "import inspect\n",
    "\n",
    "current_path = os.path.dirname(os.path.abspath(inspect.getfile(inspect.currentframe())))\n",
    "print('Текущая папка где находится скрипт python -- '+ current_path)\n",
    "\n",
    "# все примеры находятся во вложенной папке репозитория Unifloc VBA \n",
    "# поэтому здесь определяется путь к папке репозитория Unifloc VBA \n",
    "# если надо - подмените путь здесь на свой\n",
    "unifloc_path = os.path.dirname(current_path)\n",
    "print('Путь к папке Unifloc VBA -- '+ unifloc_path)\n",
    "\n",
    "unifloc_xlam = unifloc_path +'\\\\UniflocVBA_7.xlam'\n",
    "print('Путь к надстройке Unifloc VBA -- '+ unifloc_xlam)\n",
    "\n",
    "# добавим в путь поиска пакетов python папку где находится репозиторий Unifloc VBA\n",
    "sys.path.insert(0, unifloc_path) \n",
    "# импортируем python_api для Unifloc VBA\n",
    "import unifloc_vba_python_api.python_api as unifloc\n",
    "# создаем объект имеющий доступ к расчетам Unifloc VBA\n",
    "unf = unifloc.API(unifloc_xlam)"
   ]
  },
  {
   "cell_type": "code",
   "execution_count": 2,
   "id": "af5284ee",
   "metadata": {},
   "outputs": [],
   "source": [
    "# импортируем дополнительные библиотеки\n",
    "import matplotlib.pyplot as plt\n",
    "import numpy as np"
   ]
  },
  {
   "cell_type": "code",
   "execution_count": 4,
   "id": "8d7e23ea",
   "metadata": {},
   "outputs": [],
   "source": [
    "pvt = unf.encode_PVT()"
   ]
  },
  {
   "cell_type": "code",
   "execution_count": 5,
   "id": "138a4af8",
   "metadata": {},
   "outputs": [
    {
     "name": "stdout",
     "output_type": "stream",
     "text": [
      "Help on method PVT_rs_m3m3 in module unifloc_vba_python_api.python_api:\n",
      "\n",
      "PVT_rs_m3m3(p_atma, t_C, PVT_prop) method of unifloc_vba_python_api.python_api.API instance\n",
      "    ========== description ============== \n",
      "    расчет газосодержания \n",
      "           \n",
      "    ==========  arguments  ============== \n",
      "    \n",
      "        p_atma - давление, атм    \n",
      "    \n",
      "        t_c - температура, с.    \n",
      "    \n",
      "        pvt_prop - строка с параметрами флюида,  используйте encode_pvt для ее генерации\n",
      "\n"
     ]
    }
   ],
   "source": [
    "help(unf.PVT_rs_m3m3)"
   ]
  },
  {
   "cell_type": "code",
   "execution_count": 6,
   "id": "676ff79e",
   "metadata": {},
   "outputs": [
    {
     "data": {
      "text/plain": [
       "3.5193339179534653"
      ]
     },
     "execution_count": 6,
     "metadata": {},
     "output_type": "execute_result"
    }
   ],
   "source": [
    "unf.PVT_rs_m3m3(10,20,pvt)"
   ]
  },
  {
   "cell_type": "code",
   "execution_count": 7,
   "id": "fdb62b38",
   "metadata": {},
   "outputs": [],
   "source": [
    "p = np.linspace(1, 300, 100)"
   ]
  },
  {
   "cell_type": "code",
   "execution_count": 8,
   "id": "d3c807c7",
   "metadata": {},
   "outputs": [],
   "source": [
    "rs = np.vectorize(unf.PVT_rs_m3m3)"
   ]
  },
  {
   "cell_type": "code",
   "execution_count": 9,
   "id": "cc6de619",
   "metadata": {},
   "outputs": [],
   "source": [
    "rs_array  = rs(p,20,pvt)"
   ]
  },
  {
   "cell_type": "code",
   "execution_count": 10,
   "id": "b4f1675f",
   "metadata": {},
   "outputs": [
    {
     "data": {
      "text/plain": [
       "[<matplotlib.lines.Line2D at 0x1b2439af438>]"
      ]
     },
     "execution_count": 10,
     "metadata": {},
     "output_type": "execute_result"
    },
    {
     "data": {
      "image/png": "[encoded data removed]",
      "text/plain": [
       "<Figure size 432x288 with 1 Axes>"
      ]
     },
     "metadata": {
      "needs_background": "light"
     },
     "output_type": "display_data"
    }
   ],
   "source": [
    "plt.plot(p, rs_array)"
   ]
  },
  {
   "cell_type": "code",
   "execution_count": null,
   "id": "93799440",
   "metadata": {},
   "outputs": [],
   "source": []
  }
 ],
 "metadata": {
  "kernelspec": {
   "display_name": "Python 3",
   "language": "python",
   "name": "python3"
  },
  "language_info": {
   "codemirror_mode": {
    "name": "ipython",
    "version": 3
   },
   "file_extension": ".py",
   "mimetype": "text/x-python",
   "name": "python",
   "nbconvert_exporter": "python",
   "pygments_lexer": "ipython3",
   "version": "3.6.13"
  }
 },
 "nbformat": 4,
 "nbformat_minor": 5
}
