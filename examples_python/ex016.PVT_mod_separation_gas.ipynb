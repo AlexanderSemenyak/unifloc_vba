{
 "cells": [
  {
   "cell_type": "markdown",
   "id": "5f300eb1",
   "metadata": {},
   "source": [
    "Про модификацию свойств потока флюидов при сепарации части свободного газа из потока"
   ]
  },
  {
   "cell_type": "code",
   "execution_count": 1,
   "id": "2632c3f9",
   "metadata": {},
   "outputs": [
    {
     "name": "stdout",
     "output_type": "stream",
     "text": [
      "Путь к надстройке Unifloc VBA -- D:\\unifloc\\unifloc_vba\\UniflocVBA_7.xlam\n",
      "объект unf обеспечивает доступ к API Unifloc VBA\n"
     ]
    }
   ],
   "source": [
    "\"\"\"\n",
    "Импорт унифлока зависит от корректных путей к надстройке\n",
    "Путь задается вручную в явном виде (так проще всего)\n",
    "\"\"\"\n",
    "\n",
    "unifloc_path = r'D:\\unifloc\\unifloc_vba'\n",
    "unifloc_xlam = unifloc_path +r'\\UniflocVBA_7.xlam'\n",
    "print('Путь к надстройке Unifloc VBA -- '+ unifloc_xlam)\n",
    "\n",
    "import sys\n",
    "sys.path.insert(0, unifloc_path)  # добавим в путь поиска пакетов python папку где находится репозиторий Unifloc VBA\n",
    "\n",
    "import unifloc_vba_python_api.python_api as unifloc   # импортируем python_api для Unifloc VBA\n",
    "\n",
    "# создаем объект имеющий доступ к расчетам Unifloc VBA\n",
    "unf = unifloc.API(unifloc_xlam)\n",
    "\n",
    "print('объект unf обеспечивает доступ к API Unifloc VBA')"
   ]
  },
  {
   "cell_type": "code",
   "execution_count": 2,
   "id": "4d7e0349",
   "metadata": {},
   "outputs": [],
   "source": [
    "import json\n",
    "import numpy as np\n",
    "import matplotlib.pyplot as plt"
   ]
  },
  {
   "cell_type": "markdown",
   "id": "d76ea11f",
   "metadata": {},
   "source": [
    "Создадим флюид с параметрами \n",
    "- $\\gamma_{gas} = 0.8 $\n",
    "- $\\gamma_{oil} = 0.82 $\n",
    "- $r_{sb} = 0.8 $"
   ]
  },
  {
   "cell_type": "code",
   "execution_count": 3,
   "id": "039bcff9",
   "metadata": {},
   "outputs": [
    {
     "name": "stdout",
     "output_type": "stream",
     "text": [
      "{\"gamma_gas\":0.8,\"gamma_oil\":0.82,\"gamma_wat\":1,\"rsb_m3m3\":120,\"PVT_corr_set\":0}\n"
     ]
    }
   ],
   "source": [
    "fluid = unf.encode_PVT(gamma_gas = 0.8, \n",
    "                       gamma_oil = 0.82,\n",
    "                       rsb_m3m3 = 120\n",
    "                      )\n",
    "print(fluid)"
   ]
  },
  {
   "cell_type": "code",
   "execution_count": 4,
   "id": "0ba0185d",
   "metadata": {},
   "outputs": [
    {
     "data": {
      "text/plain": [
       "str"
      ]
     },
     "execution_count": 4,
     "metadata": {},
     "output_type": "execute_result"
    }
   ],
   "source": [
    "type(fluid)"
   ]
  },
  {
   "cell_type": "markdown",
   "id": "40c46579",
   "metadata": {},
   "source": [
    "В результате получили строку. Сделали это методами unifloc vba, но можно было пока обойтись и число python функциями."
   ]
  },
  {
   "cell_type": "markdown",
   "id": "8c9f408a",
   "metadata": {},
   "source": [
    "Найдем давление насыщения для созданного флюида и построим графики зависимости газосодержания от давления, объемного коэффициента нефти от давления и вязкости нефти от давления."
   ]
  },
  {
   "cell_type": "code",
   "execution_count": 5,
   "id": "b84e05a3",
   "metadata": {},
   "outputs": [],
   "source": [
    "t_res_C = 80\n",
    "pb = unf.PVT_pb_atma(t_C = t_res_C, PVT_prop = fluid)"
   ]
  },
  {
   "cell_type": "code",
   "execution_count": 6,
   "id": "aaa26de3",
   "metadata": {},
   "outputs": [
    {
     "data": {
      "text/plain": [
       "146.4261947356527"
      ]
     },
     "execution_count": 6,
     "metadata": {},
     "output_type": "execute_result"
    }
   ],
   "source": [
    "pb"
   ]
  },
  {
   "cell_type": "code",
   "execution_count": 7,
   "id": "03829d7e",
   "metadata": {},
   "outputs": [],
   "source": [
    "rs = np.vectorize(unf.PVT_rs_m3m3)"
   ]
  },
  {
   "cell_type": "code",
   "execution_count": 8,
   "id": "32f9c5c2",
   "metadata": {},
   "outputs": [],
   "source": [
    "# сформируем массив давлений для которых будем строить график\n",
    "# для того, чтобы график был красивый, проследим, \n",
    "# чтобы в наборе точек обязательно было давление насыщения\n",
    "p_list = np.unique(np.append(np.linspace(1,300,10), pb))\n",
    "\n",
    "rs_list = rs(p_list, t_res_C, fluid)"
   ]
  },
  {
   "cell_type": "code",
   "execution_count": 9,
   "id": "375288c8",
   "metadata": {},
   "outputs": [
    {
     "data": {
      "image/png": "[encoded data removed]",
      "text/plain": [
       "<Figure size 640x480 with 1 Axes>"
      ]
     },
     "metadata": {},
     "output_type": "display_data"
    }
   ],
   "source": [
    "plt.plot(p_list, rs_list)\n",
    "plt.show()"
   ]
  },
  {
   "cell_type": "code",
   "execution_count": 10,
   "id": "1a7ee97f",
   "metadata": {},
   "outputs": [],
   "source": [
    "fluid_sep = unf.feed_mod_separate_gas(0.5, 50, 80, fluid)"
   ]
  },
  {
   "cell_type": "code",
   "execution_count": 11,
   "id": "0df08e62",
   "metadata": {},
   "outputs": [
    {
     "data": {
      "text/plain": [
       "'{\"gamma_gas\":0.8,\"gamma_oil\":0.82,\"gamma_wat\":1,\"rsb_m3m3\":32.713,\"pb_atma\":51.83,\"t_res_C\":90,\"bob_m3m3\":1.151,\"muob_cP\":0.688,\"PVT_corr_set\":0,\"q_liq_sm3day\":0.1,\"fw_perc\":0,\"rp_m3m3\":76.356}'"
      ]
     },
     "execution_count": 11,
     "metadata": {},
     "output_type": "execute_result"
    }
   ],
   "source": [
    "fluid_sep"
   ]
  },
  {
   "cell_type": "code",
   "execution_count": 12,
   "id": "adce72a4",
   "metadata": {},
   "outputs": [
    {
     "data": {
      "text/plain": [
       "array([  1.        ,  34.22222222,  67.44444444, 100.66666667,\n",
       "       133.88888889, 146.42619474, 167.11111111, 200.33333333,\n",
       "       233.55555556, 266.77777778, 300.        ])"
      ]
     },
     "execution_count": 12,
     "metadata": {},
     "output_type": "execute_result"
    }
   ],
   "source": [
    "p_list"
   ]
  },
  {
   "cell_type": "code",
   "execution_count": 13,
   "id": "fb4aefe4",
   "metadata": {},
   "outputs": [
    {
     "data": {
      "text/plain": [
       "array([  0.29454893,  20.72356793,  46.90386708,  75.96819652,\n",
       "       107.09220753, 120.        , 120.        , 120.        ,\n",
       "       120.        , 120.        , 120.        ])"
      ]
     },
     "execution_count": 13,
     "metadata": {},
     "output_type": "execute_result"
    }
   ],
   "source": [
    "rs(p_list, t_res_C, fluid)"
   ]
  },
  {
   "cell_type": "code",
   "execution_count": 16,
   "id": "f4b2ef3b",
   "metadata": {},
   "outputs": [
    {
     "data": {
      "image/png": "[encoded data removed]",
      "text/plain": [
       "<Figure size 640x480 with 1 Axes>"
      ]
     },
     "metadata": {},
     "output_type": "display_data"
    }
   ],
   "source": [
    "p_list = np.unique(np.append(p_list, 55))\n",
    "\n",
    "plt.plot(p_list, rs(p_list, t_res_C, fluid))\n",
    "plt.plot(p_list, rs(p_list, t_res_C, fluid_sep))\n",
    "\n",
    "plt.show()"
   ]
  },
  {
   "cell_type": "code",
   "execution_count": 108,
   "id": "dc863136",
   "metadata": {},
   "outputs": [],
   "source": [
    "class Xarray:\n",
    "    array = np.array([])\n",
    "    \n",
    "    def add(self, vals):\n",
    "        self.array = np.unique( np.append(self.array, vals) )\n",
    "        return self.array\n",
    "    "
   ]
  },
  {
   "cell_type": "code",
   "execution_count": 109,
   "id": "821a8ff3",
   "metadata": {},
   "outputs": [],
   "source": [
    "xval = Xarray()"
   ]
  },
  {
   "cell_type": "code",
   "execution_count": null,
   "id": "9e3289b9",
   "metadata": {},
   "outputs": [],
   "source": []
  },
  {
   "cell_type": "code",
   "execution_count": 110,
   "id": "127d402d",
   "metadata": {},
   "outputs": [
    {
     "data": {
      "text/plain": [
       "array([], dtype=float64)"
      ]
     },
     "execution_count": 110,
     "metadata": {},
     "output_type": "execute_result"
    }
   ],
   "source": [
    "xval.array"
   ]
  },
  {
   "cell_type": "code",
   "execution_count": 113,
   "id": "73279f42",
   "metadata": {},
   "outputs": [
    {
     "data": {
      "text/plain": [
       "array([ 1.        ,  1.31034483,  1.62068966,  1.93103448,  2.24137931,\n",
       "        2.55172414,  2.86206897,  3.17241379,  3.48275862,  3.79310345,\n",
       "        4.10344828,  4.4137931 ,  4.72413793,  5.03448276,  5.34482759,\n",
       "        5.65517241,  5.96551724,  6.27586207,  6.5862069 ,  6.89655172,\n",
       "        7.20689655,  7.51724138,  7.82758621,  8.13793103,  8.44827586,\n",
       "        8.75862069,  9.06896552,  9.37931034,  9.68965517, 10.        ])"
      ]
     },
     "execution_count": 113,
     "metadata": {},
     "output_type": "execute_result"
    }
   ],
   "source": [
    "xval.add(vals=np.linspace(1,10,2))"
   ]
  },
  {
   "cell_type": "code",
   "execution_count": 117,
   "id": "dc252390",
   "metadata": {},
   "outputs": [
    {
     "data": {
      "text/plain": [
       "array([ 1.        ,  1.31034483,  1.62068966,  1.93103448,  2.        ,\n",
       "        2.24137931,  2.55172414,  2.86206897,  3.17241379,  3.48275862,\n",
       "        3.79310345,  4.10344828,  4.4137931 ,  4.72413793,  5.03448276,\n",
       "        5.34482759,  5.65517241,  5.96551724,  6.27586207,  6.5862069 ,\n",
       "        6.89655172,  7.20689655,  7.51724138,  7.82758621,  8.13793103,\n",
       "        8.44827586,  8.75862069,  9.06896552,  9.37931034,  9.68965517,\n",
       "       10.        , 12.        ])"
      ]
     },
     "execution_count": 117,
     "metadata": {},
     "output_type": "execute_result"
    }
   ],
   "source": [
    "xval.add(2)"
   ]
  },
  {
   "cell_type": "code",
   "execution_count": null,
   "id": "7cd0904d",
   "metadata": {},
   "outputs": [],
   "source": []
  }
 ],
 "metadata": {
  "kernelspec": {
   "display_name": "Python 3 (ipykernel)",
   "language": "python",
   "name": "python3"
  },
  "language_info": {
   "codemirror_mode": {
    "name": "ipython",
    "version": 3
   },
   "file_extension": ".py",
   "mimetype": "text/x-python",
   "name": "python",
   "nbconvert_exporter": "python",
   "pygments_lexer": "ipython3",
   "version": "3.11.0"
  }
 },
 "nbformat": 4,
 "nbformat_minor": 5
}
