{
 "cells": [
  {
   "cell_type": "markdown",
   "metadata": {},
   "source": [
    "# Тестовые примера расчета ЭЦН с использованием Unifloc VBA"
   ]
  },
  {
   "cell_type": "code",
   "execution_count": 6,
   "metadata": {},
   "outputs": [
    {
     "name": "stdout",
     "output_type": "stream",
     "text": [
      "Путь к папке Unifloc VBA -- c:\\unifloc\\unifloc_vba\n",
      "Путь к надстройке Unifloc VBA -- c:\\unifloc\\unifloc_vba\\UniflocVBA_7.xlam\n"
     ]
    }
   ],
   "source": [
    "\n",
    "import os\n",
    "import sys\n",
    "\n",
    "import numpy as np \n",
    "import matplotlib.pyplot as plt \n",
    "\n",
    "\n",
    "\"\"\"\n",
    "Пример автоматического определения путей для примера поставляемого с Unifloc VBA\n",
    "работает, только если расчетный файл находится во вложенной папке относительно надстройки.\n",
    "Для других вариантов расположения расчетного файла - ссылки на папки надо модифицировать\n",
    "\"\"\" \n",
    "\n",
    "\n",
    "# все примеры находятся во вложенной папке репозитория Unifloc VBA \n",
    "# поэтому здесь определяется путь к папке репозитория Unifloc VBA \n",
    "# если надо - подмените путь здесь на свой\n",
    "current_path = \"..\"\n",
    "unifloc_path = os.path.abspath(current_path)\n",
    "print('Путь к папке Unifloc VBA -- '+ unifloc_path)\n",
    "\n",
    "unifloc_xlam = unifloc_path +'\\\\UniflocVBA_7.xlam'\n",
    "print('Путь к надстройке Unifloc VBA -- '+ unifloc_xlam)\n",
    "\n",
    "# добавим в путь поиска пакетов python папку где находится репозиторий Unifloc VBA\n",
    "sys.path.insert(0, unifloc_path) \n",
    "# импортируем python_api для Unifloc VBA\n",
    "import unifloc_vba_python_api.python_api as unifloc\n",
    "# создаем объект имеющий доступ к расчетам Unifloc VBA\n",
    "unf = unifloc.API(unifloc_xlam)"
   ]
  },
  {
   "cell_type": "markdown",
   "metadata": {},
   "source": [
    "## 1. Номинальные характеристики ЭЦН"
   ]
  },
  {
   "cell_type": "code",
   "execution_count": 7,
   "metadata": {},
   "outputs": [
    {
     "name": "stdout",
     "output_type": "stream",
     "text": [
      "Параметры ЭЦН закодированы\n",
      "{\"q_nom_sm3day\":80,\"head_nom_m\":1500,\"freq_nom_Hz\":50,\"name\":\"ESP-80-1500\",\"ESP_ID\":1006,\"num_stages\":250,\"gas_correct_model\":1,\"gas_correct_stage_by_stage\":0,\"calibr_head\":1,\"calibr_power\":1,\"calibr_rate\":1,\"dnum_stages_integrate\":1}\n",
      "максимальная подача на номинальной частоте = 175.0\n"
     ]
    },
    {
     "data": {
      "text/plain": [
       "[<matplotlib.lines.Line2D at 0x2d7623ab1d0>]"
      ]
     },
     "execution_count": 7,
     "metadata": {},
     "output_type": "execute_result"
    },
    {
     "data": {
      "image/png": "[encoded data removed]",
      "text/plain": [
       "<Figure size 640x480 with 1 Axes>"
      ]
     },
     "metadata": {},
     "output_type": "display_data"
    }
   ],
   "source": [
    "ESP_q_nom =\t80\n",
    "ESP_head_nom =\t1500\n",
    "freq_nom =\t50\n",
    "ESP_ID =\t1006\n",
    "num_stages =\t250\n",
    "calibr_head =\t1\n",
    "calibr_rate =\t1\n",
    "calibr_power =\t1\n",
    "gas_correct_model =\t1\n",
    "gas_correct_stage_by_stage =\t0\n",
    "dnum_stages_integrate =\t1\n",
    "\n",
    "esp = unf.encode_ESP_pump(q_nom_sm3day=ESP_q_nom,\n",
    "                          head_nom_m=ESP_head_nom,\n",
    "                          freq_nom_Hz=freq_nom,\n",
    "                          calibr_head=calibr_head,\n",
    "                          calibr_rate=calibr_rate,\n",
    "                          calibr_power=calibr_power,\n",
    "                          gas_correct_model=gas_correct_model,\n",
    "                          gas_correct_stage_by_stage=gas_correct_stage_by_stage,\n",
    "                          dnum_stages_integrate=dnum_stages_integrate)\n",
    "\n",
    "print('Параметры ЭЦН закодированы')\n",
    "print(esp)\n",
    "\n",
    "max_rate = unf.ESP_rate_max_sm3day(esp)\n",
    "print(f'максимальная подача на номинальной частоте = {max_rate}')\n",
    "\n",
    "rates = np.linspace(1, max_rate*1.1, 50 )\n",
    "heads = [unf.ESP_head_m(esp_json=esp, freq_Hz=50, qliq_m3day= rt) for rt in rates]\n",
    "\n",
    "plt.plot(rates, heads)"
   ]
  },
  {
   "cell_type": "markdown",
   "metadata": {},
   "source": [
    "## 2. Расчет давления"
   ]
  },
  {
   "cell_type": "code",
   "execution_count": 8,
   "metadata": {},
   "outputs": [],
   "source": [
    "pvt = unf.encode_PVT()\n",
    "feed = unf.encode_feed(fluid=pvt)"
   ]
  },
  {
   "cell_type": "code",
   "execution_count": 9,
   "metadata": {},
   "outputs": [
    {
     "name": "stdout",
     "output_type": "stream",
     "text": [
      "{\"gamma_gas\":0.6,\"gamma_oil\":0.86,\"gamma_wat\":1,\"rsb_m3m3\":100,\"PVT_corr_set\":0,\"q_liq_sm3day\":10}\n"
     ]
    }
   ],
   "source": [
    "print(feed)"
   ]
  },
  {
   "cell_type": "code",
   "execution_count": 10,
   "metadata": {},
   "outputs": [
    {
     "data": {
      "text/plain": [
       "138.91570057234108"
      ]
     },
     "execution_count": 10,
     "metadata": {},
     "output_type": "execute_result"
    }
   ],
   "source": [
    "unf.ESP_p_atma(100, esp_json=esp)"
   ]
  },
  {
   "cell_type": "code",
   "execution_count": null,
   "metadata": {},
   "outputs": [],
   "source": []
  }
 ],
 "metadata": {
  "kernelspec": {
   "display_name": ".venv",
   "language": "python",
   "name": "python3"
  },
  "language_info": {
   "codemirror_mode": {
    "name": "ipython",
    "version": 3
   },
   "file_extension": ".py",
   "mimetype": "text/x-python",
   "name": "python",
   "nbconvert_exporter": "python",
   "pygments_lexer": "ipython3",
   "version": "3.11.5"
  }
 },
 "nbformat": 4,
 "nbformat_minor": 2
}
