{
 "cells": [
  {
   "cell_type": "markdown",
   "id": "70843d2f",
   "metadata": {},
   "source": [
    "Продолжение разборок со струйным насосом. \n",
    "Песочница"
   ]
  },
  {
   "cell_type": "code",
   "execution_count": 1,
   "id": "09d5804d",
   "metadata": {},
   "outputs": [
    {
     "name": "stdout",
     "output_type": "stream",
     "text": [
      "Путь к папке Unifloc VBA -- d:\\unifloc\\unifloc_vba\n",
      "Путь к надстройке Unifloc VBA -- d:\\unifloc\\unifloc_vba\\UniflocVBA_7.xlam\n"
     ]
    }
   ],
   "source": [
    "\"\"\"\n",
    "Пример автоматического определения путей для примера поставляемого с Unifloc VBA\n",
    "работает, только если расчетный файл находится во вложенной папке относительно надстройки.\n",
    "Для других вариантов расположения расчетного файла - ссылки на папки надо модифицировать\n",
    "\"\"\" \n",
    "\n",
    "import os\n",
    "import sys\n",
    "\n",
    "# все примеры находятся во вложенной папке репозитория Unifloc VBA \n",
    "# поэтому здесь определяется путь к папке репозитория Unifloc VBA \n",
    "# если надо - подмените путь здесь на свой\n",
    "unifloc_path = \"d:\\\\unifloc\\\\unifloc_vba\"\n",
    "print('Путь к папке Unifloc VBA -- '+ unifloc_path)\n",
    "\n",
    "unifloc_xlam = unifloc_path +'\\\\UniflocVBA_7.xlam'\n",
    "print('Путь к надстройке Unifloc VBA -- '+ unifloc_xlam)\n",
    "\n",
    "# добавим в путь поиска пакетов python папку где находится репозиторий Unifloc VBA\n",
    "sys.path.insert(0, unifloc_path) \n",
    "# импортируем python_api для Unifloc VBA\n",
    "import unifloc_vba_python_api.python_api as unifloc\n",
    "# создаем объект имеющий доступ к расчетам Unifloc VBA\n",
    "unf = unifloc.API(unifloc_xlam)"
   ]
  },
  {
   "cell_type": "markdown",
   "id": "feb617ce",
   "metadata": {},
   "source": [
    "# Простой расчет струйного насоса"
   ]
  },
  {
   "cell_type": "code",
   "execution_count": 2,
   "id": "54e1f773",
   "metadata": {},
   "outputs": [],
   "source": [
    "# подготовим данные\n",
    "\n",
    "# параметры рабочего флюида \n",
    "feed_act = unf.encode_PVT()\n",
    "feed_act = unf.encode_feed(fw_perc=100, fluid=feed_act)\n",
    "\n",
    "# параметры перекачиваемого флюида\n",
    "feed_in = unf.encode_PVT()\n",
    "feed_in = unf.encode_feed(fw_perc=100, fluid=feed_in)\n",
    "\n",
    "dn = 2\n",
    "dt = 4\n",
    "pa = 100\n",
    "pi = 20"
   ]
  },
  {
   "cell_type": "code",
   "execution_count": 3,
   "id": "87ad9818",
   "metadata": {},
   "outputs": [
    {
     "data": {
      "text/plain": [
       "'{\"gamma_gas\":0.6,\"gamma_oil\":0.86,\"gamma_wat\":1,\"rsb_m3m3\":100,\"PVT_corr_set\":0,\"q_liq_sm3day\":10,\"fw_perc\":100}'"
      ]
     },
     "execution_count": 3,
     "metadata": {},
     "output_type": "execute_result"
    }
   ],
   "source": [
    "feed_in"
   ]
  },
  {
   "cell_type": "code",
   "execution_count": 4,
   "id": "80c29ea7",
   "metadata": {},
   "outputs": [
    {
     "data": {
      "text/plain": [
       "(49.40770913819093,\n",
       " '{\"gamma_gas\":0.6,\"gamma_oil\":0.86,\"gamma_wat\":1,\"rsb_m3m3\":100,\"pb_atma\":166.547,\"t_res_C\":90,\"PVT_corr_set\":0,\"q_liq_sm3day\":43.593,\"fw_perc\":100}')"
      ]
     },
     "execution_count": 4,
     "metadata": {},
     "output_type": "execute_result"
    }
   ],
   "source": [
    "unf.Jet_p_out_atma(feed_act, feed_in, dn, dt, pa, pi)"
   ]
  },
  {
   "cell_type": "code",
   "execution_count": null,
   "id": "5688d2ec",
   "metadata": {},
   "outputs": [],
   "source": []
  }
 ],
 "metadata": {
  "kernelspec": {
   "display_name": "Python 3 (ipykernel)",
   "language": "python",
   "name": "python3"
  },
  "language_info": {
   "codemirror_mode": {
    "name": "ipython",
    "version": 3
   },
   "file_extension": ".py",
   "mimetype": "text/x-python",
   "name": "python",
   "nbconvert_exporter": "python",
   "pygments_lexer": "ipython3",
   "version": "3.11.0"
  }
 },
 "nbformat": 4,
 "nbformat_minor": 5
}
