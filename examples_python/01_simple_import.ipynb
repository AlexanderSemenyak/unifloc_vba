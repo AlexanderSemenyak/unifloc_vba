{
 "cells": [
  {
   "cell_type": "markdown",
   "id": "22122464",
   "metadata": {},
   "source": [
    "# Пример простого импорта и запуска расчета c python API\n",
    "\n",
    "Хабибуллин Ринат\n",
    "\n",
    "версия 0.1 от 30.09.2021\n",
    "\n",
    "***\n",
    "Пример показывает как можно подключиться к `python API` для `Unifloc VBA` и сделать простой расчет.\n",
    "\n",
    "Основной трюк этого примера - как разобраться с путями на которых находится `Unifloc VBA` и на которых находится python скрипт, который будет считать. Это обеспечить загрузку пакета с модулями импорта.\n",
    "\n",
    "Работать будет только под windows так как расчеты проводит в итоге Excel\n",
    "\n",
    "$$Q=\\frac{2 \\pi kh}{\\mu B}$$"
   ]
  },
  {
   "cell_type": "code",
   "execution_count": 1,
   "id": "d487a474",
   "metadata": {},
   "outputs": [
    {
     "name": "stdout",
     "output_type": "stream",
     "text": [
      "Текущая папка где находится скрипт python -- C:\\unifloc\\unifloc_vba\\examples_python\n",
      "Путь к папке Unifloc VBA -- C:\\unifloc\\unifloc_vba\n",
      "Путь к надстройке Unifloc VBA -- C:\\unifloc\\unifloc_vba\\UniflocVBA_7.xlam\n"
     ]
    }
   ],
   "source": [
    "\"\"\"\n",
    "Пример автоматического определения путей для примера поставляемого с Unifloc VBA\n",
    "работает, только если расчетный файл находится во вложенной папке относительно надстройки.\n",
    "Для других вариантов расположения расчетного файла - ссылки на папки надо модифицировать\n",
    "\"\"\" \n",
    "\n",
    "import os\n",
    "import sys\n",
    "import inspect\n",
    "\n",
    "current_path = os.path.dirname(os.path.abspath(inspect.getfile(inspect.currentframe())))\n",
    "print('Текущая папка где находится скрипт python -- '+ current_path)\n",
    "\n",
    "# все примеры находятся во вложенной папке репозитория Unifloc VBA \n",
    "# поэтому здесь определяется путь к папке репозитория Unifloc VBA \n",
    "# если надо - подмените путь здесь на свой\n",
    "unifloc_path = os.path.dirname(current_path)\n",
    "print('Путь к папке Unifloc VBA -- '+ unifloc_path)\n",
    "\n",
    "unifloc_xlam = unifloc_path +'\\\\UniflocVBA_7.xlam'\n",
    "print('Путь к надстройке Unifloc VBA -- '+ unifloc_xlam)\n",
    "\n",
    "# добавим в путь поиска пакетов python папку где находится репозиторий Unifloc VBA\n",
    "sys.path.insert(0, unifloc_path) \n",
    "# импортируем python_api для Unifloc VBA\n",
    "import unifloc_vba_python_api.python_api as unifloc\n",
    "# создаем объект имеющий доступ к расчетам Unifloc VBA\n",
    "unf = unifloc.API(unifloc_xlam)"
   ]
  },
  {
   "cell_type": "code",
   "execution_count": 2,
   "id": "e0b44f5e",
   "metadata": {},
   "outputs": [],
   "source": [
    "# импортируем дополнительные библиотеки\n",
    "import matplotlib.pyplot as plt\n",
    "import numpy as np"
   ]
  },
  {
   "cell_type": "markdown",
   "id": "a878eb55",
   "metadata": {},
   "source": [
    "## Задаем параметры флюида и формируем json строку кодирующую параметры флюида"
   ]
  },
  {
   "cell_type": "markdown",
   "id": "751a1fc9",
   "metadata": {},
   "source": [
    "Подсказку по аргументам функций unifloc VBA можно получить используя функцию `help`или можно посмотреть непосредственно в коде. Ниже приведен пример. Обратите внимание, python чувствителен к регистру, поэтому надо в описании смотреть на строку задания функции где перечислены все аргументы с заданными значениями по умолчанию. В развернутом описании аргументов регистр может отличаться."
   ]
  },
  {
   "cell_type": "code",
   "execution_count": 3,
   "id": "f5d17583",
   "metadata": {
    "scrolled": false
   },
   "outputs": [
    {
     "name": "stdout",
     "output_type": "stream",
     "text": [
      "Help on method encode_PVT in module unifloc_vba_python_api.python_api:\n",
      "\n",
      "encode_PVT(gamma_gas=0.6, gamma_oil=0.86, gamma_wat=1, rsb_m3m3=100, pb_atma=0, t_res_C=80, bob_m3m3=0, muob_cP=0, PVT_corr_set=0) method of unifloc_vba_python_api.python_api.API instance\n",
      "    ========== description ============== \n",
      "    Функция кодирования параметров PVT в строку,  для передачи PVT свойств в прикладные функции Унифлок. \n",
      "           \n",
      "    ==========  arguments  ============== \n",
      "    \n",
      "        gamma_gas - удельная плотность газа, по воздуху.  по умолчанию const_gg_ = 0.6    \n",
      "    \n",
      "        gamma_oil - удельная плотность нефти, по воде.  по умолчанию const_go_ = 0.86    \n",
      "    \n",
      "        gamma_wat - удельная плотность воды, по воде.  по умолчанию const_gw_ = 1    \n",
      "    \n",
      "        rsb_m3m3 - газосодержание при давлении насыщения, м3/м3.  по умолчанию const_rsb_default = 100    \n",
      "    \n",
      "        pb_atma - давление насыщения при заданной температуре, атма.  опциональный калибровочный параметр,  если не задан или = 0, то рассчитается по корреляции.    \n",
      "    \n",
      "        t_res_c - пластовая температура, с.  учитывается при расчете давления насыщения.  по умолчанию const_tres_default = 90    \n",
      "    \n",
      "        bob_m3m3 - объемный коэффициент нефти при давлении насыщения  и пластовой температуре, м3/м3.  по умолчанию рассчитывается по корреляции.    \n",
      "    \n",
      "        muob_cp - вязкость нефти при давлении насыщения.  и пластовой температуре, сп.  по умолчанию рассчитывается по корреляции.    \n",
      "    \n",
      "        pvt_corr_set - номер набора pvt корреляций для расчета:  0 - на основе корреляции стендинга;  1 - на основе кор-ии маккейна;  2 - на основе упрощенных зависимостей.\n",
      "\n"
     ]
    }
   ],
   "source": [
    "help(unf.encode_PVT)"
   ]
  },
  {
   "cell_type": "code",
   "execution_count": 3,
   "id": "7269b57b",
   "metadata": {},
   "outputs": [
    {
     "name": "stdout",
     "output_type": "stream",
     "text": [
      "{\"gamma_gas\":0.8,\"gamma_oil\":0.82,\"gamma_wat\":1.1,\"rsb_m3m3\":120,\"pb_atma\":150,\"t_res_C\":80,\"bob_m3m3\":1.2,\"muob_cP\":0.5,\"PVT_corr_set\":0}\n"
     ]
    }
   ],
   "source": [
    "# задаем флюид задавая все параметры.\n",
    "# для наглядности используем имена аргументов для задания значений\n",
    "fluid = unf.encode_PVT(gamma_gas=0.8, \n",
    "                       gamma_oil=0.82, \n",
    "                       gamma_wat=1.1, \n",
    "                       rsb_m3m3=120, \n",
    "                       pb_atma=150, \n",
    "                       t_res_C=80, \n",
    "                       bob_m3m3=1.2, \n",
    "                       muob_cP=0.5, \n",
    "                       PVT_corr_set=0)\n",
    "# выведем итоговую json строку\n",
    "print(fluid)"
   ]
  },
  {
   "cell_type": "markdown",
   "id": "e8becf3f",
   "metadata": {},
   "source": [
    "## Расчет газосодержания в нефти\n",
    "\n",
    "Для примера рассчитаем значение газосодержания $r_s$ в заданной нефти и построим график зависимости газосодержания от давления"
   ]
  },
  {
   "cell_type": "code",
   "execution_count": 4,
   "id": "2f342524",
   "metadata": {},
   "outputs": [
    {
     "name": "stdout",
     "output_type": "stream",
     "text": [
      "Help on method PVT_rs_m3m3 in module unifloc_vba_python_api.python_api:\n",
      "\n",
      "PVT_rs_m3m3(p_atma, t_C, PVT_prop) method of unifloc_vba_python_api.python_api.API instance\n",
      "    ========== description ============== \n",
      "    расчет газосодержания \n",
      "           \n",
      "    ==========  arguments  ============== \n",
      "    \n",
      "        p_atma - давление, атм    \n",
      "    \n",
      "        t_c - температура, с.    \n",
      "    \n",
      "        pvt_prop - строка с параметрами флюида,  используйте encode_pvt для ее генерации\n",
      "\n"
     ]
    }
   ],
   "source": [
    "help(unf.PVT_rs_m3m3)"
   ]
  },
  {
   "cell_type": "code",
   "execution_count": 5,
   "id": "9a697265",
   "metadata": {},
   "outputs": [
    {
     "name": "stdout",
     "output_type": "stream",
     "text": [
      "0.28612023857689795\n"
     ]
    }
   ],
   "source": [
    "# пример расчета газосодерждания при давлении 1 атм, и температуре 80 C\n",
    "rs = unf.PVT_rs_m3m3(1, 80, fluid)\n",
    "print(rs)"
   ]
  },
  {
   "cell_type": "code",
   "execution_count": 6,
   "id": "f658c9f2",
   "metadata": {},
   "outputs": [
    {
     "name": "stdout",
     "output_type": "stream",
     "text": [
      "0.28612023857689795\n"
     ]
    }
   ],
   "source": [
    "# удобнее для чтения кода при вызове функций указывать названия аргументов\n",
    "rs = unf.PVT_rs_m3m3(p_atma=1, t_C=80, PVT_prop=fluid)\n",
    "print(rs)"
   ]
  },
  {
   "cell_type": "code",
   "execution_count": 7,
   "id": "0e848592",
   "metadata": {},
   "outputs": [
    {
     "data": {
      "image/png": "[encoded data removed]",
      "text/plain": [
       "<Figure size 432x288 with 1 Axes>"
      ]
     },
     "metadata": {
      "needs_background": "light"
     },
     "output_type": "display_data"
    }
   ],
   "source": [
    "# для отрисовки графика сформируем массив давлений и рассчитаем для него значения газосодержания\n",
    "plist = np.arange(1,300,2)\n",
    "rslist = np.array([unf.PVT_rs_m3m3(p_atma=pi, t_C=80, PVT_prop=fluid) for pi in plist])\n",
    "\n",
    "plt.plot(plist, rslist)\n",
    "plt.show()"
   ]
  },
  {
   "cell_type": "markdown",
   "id": "5bc46b57",
   "metadata": {},
   "source": [
    "В Unifloc VAB python API генерируются функции не поддерживающие векторные расчеты numpy. В некоторых случаях для повышения наглядности расчетного кода необходимые функции можно векторизовать самостоятельно. Пример приведен ниже"
   ]
  },
  {
   "cell_type": "code",
   "execution_count": 9,
   "id": "2eaaf164",
   "metadata": {},
   "outputs": [],
   "source": [
    "# векторизуем функцию расчета газосодержания\n",
    "rs_m3m3 = np.vectorize(unf.PVT_rs_m3m3)"
   ]
  },
  {
   "cell_type": "code",
   "execution_count": 10,
   "id": "bf92d59e",
   "metadata": {},
   "outputs": [
    {
     "data": {
      "image/png": "[encoded data removed]",
      "text/plain": [
       "<Figure size 432x288 with 1 Axes>"
      ]
     },
     "metadata": {
      "needs_background": "light"
     },
     "output_type": "display_data"
    }
   ],
   "source": [
    "# для отрисовки графика сформируем массив давлений и рассчитаем для него значения газосодержания\n",
    "plist = np.arange(1,300,2)\n",
    "\n",
    "rslist = rs_m3m3(p_atma=plist, t_C=60, PVT_prop=fluid) \n",
    "plt.plot(plist, rslist)\n",
    "\n",
    "rslist = rs_m3m3(p_atma=plist, t_C=80, PVT_prop=fluid) \n",
    "plt.plot(plist, rslist)\n",
    "\n",
    "rslist = rs_m3m3(p_atma=plist, t_C=100, PVT_prop=fluid) \n",
    "plt.plot(plist, rslist)\n",
    "\n",
    "plt.show()"
   ]
  },
  {
   "cell_type": "markdown",
   "id": "87360ff8",
   "metadata": {},
   "source": [
    "Графики можно укасить, добавить подписи и легенду. Оставим это читателю в качестве упражнения"
   ]
  },
  {
   "cell_type": "code",
   "execution_count": null,
   "id": "8ff24161",
   "metadata": {},
   "outputs": [],
   "source": []
  }
 ],
 "metadata": {
  "kernelspec": {
   "display_name": "Python 3",
   "language": "python",
   "name": "python3"
  },
  "language_info": {
   "codemirror_mode": {
    "name": "ipython",
    "version": 3
   },
   "file_extension": ".py",
   "mimetype": "text/x-python",
   "name": "python",
   "nbconvert_exporter": "python",
   "pygments_lexer": "ipython3",
   "version": "3.9.2"
  }
 },
 "nbformat": 4,
 "nbformat_minor": 5
}
